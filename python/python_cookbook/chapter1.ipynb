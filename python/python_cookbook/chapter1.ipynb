{
 "cells": [
  {
   "cell_type": "markdown",
   "metadata": {},
   "source": [
    "# python列表的多重赋值\n",
    "比如vars=[1,2,3]，则可以用a,b,c = vars来给他赋值，同时vars=[1,2,3,4,5]，则可以用a,*b,c = vars去给他们赋值，这样得到的b是一个列表（就算var是turple类型，b的类型也是list）\n",
    "另外vars=[1,(2,3),4]，则可以用a,(b,c),d = vars去赋值。\n",
    "当我们只想要其中的某几个元素，我们可以这么做：\n",
    "a, _, c, _ = vars "
   ]
  }
 ],
 "metadata": {
  "language_info": {
   "name": "python"
  },
  "orig_nbformat": 4
 },
 "nbformat": 4,
 "nbformat_minor": 2
}
